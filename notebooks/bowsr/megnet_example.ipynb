{
 "cells": [
  {
   "cell_type": "code",
   "execution_count": 1,
   "metadata": {},
   "outputs": [
    {
     "name": "stdout",
     "output_type": "stream",
     "text": [
      "WARNING:tensorflow:From /Users/chichen/miniconda3/lib/python3.9/site-packages/tensorflow/python/ops/array_ops.py:5043: calling gather (from tensorflow.python.ops.array_ops) with validate_indices is deprecated and will be removed in a future version.\n",
      "Instructions for updating:\n",
      "The `validate_indices` argument has no effect. Indices are always validated on CPU and never validated on GPU.\n"
     ]
    },
    {
     "name": "stderr",
     "output_type": "stream",
     "text": [
      "2021-10-02 21:40:48.219960: I tensorflow/core/platform/cpu_feature_guard.cc:142] This TensorFlow binary is optimized with oneAPI Deep Neural Network Library (oneDNN) to use the following CPU instructions in performance-critical operations:  AVX2 FMA\n",
      "To enable them in other operations, rebuild TensorFlow with the appropriate compiler flags.\n",
      "WARNING:tensorflow:From /Users/chichen/miniconda3/lib/python3.9/site-packages/tensorflow/python/ops/array_ops.py:5043: calling gather (from tensorflow.python.ops.array_ops) with validate_indices is deprecated and will be removed in a future version.\n",
      "Instructions for updating:\n",
      "The `validate_indices` argument has no effect. Indices are always validated on CPU and never validated on GPU.\n"
     ]
    }
   ],
   "source": [
    "import os\n",
    "os.environ[\"CUDA_VISIBLE_DEVICES\"] = \"-1\"\n",
    "import tensorflow as tf\n",
    "from maml.apps.bowsr.model.megnet import MEGNet\n",
    "from maml.apps.bowsr.optimizer import BayesianOptimizer\n",
    "from pymatgen.core.periodic_table import get_el_sp\n",
    "model = MEGNet()\n",
    "\n",
    "def expected_radius(struct):\n",
    "    element_list = struct.composition.chemical_system.split('-')\n",
    "    element_list = [get_el_sp(e) for e in element_list]\n",
    "    ele1, ele2 = sorted(element_list, key=lambda x: x.atomic_radius)[:2]\n",
    "    return ele1.atomic_radius + ele2.atomic_radius"
   ]
  },
  {
   "cell_type": "markdown",
   "metadata": {},
   "source": [
    "# Load cubic and orthorhombic perovskite"
   ]
  },
  {
   "cell_type": "code",
   "execution_count": 2,
   "metadata": {},
   "outputs": [],
   "source": [
    "from pymatgen.core.structure import Structure\n",
    "\n",
    "cubic = Structure.from_file(\"cubic_perovskite.cif\")\n",
    "orthorhombic = Structure.from_file(\"orthorhombic_perovskite.cif\")"
   ]
  },
  {
   "cell_type": "markdown",
   "metadata": {},
   "source": [
    "# Distorted structures"
   ]
  },
  {
   "cell_type": "code",
   "execution_count": 3,
   "metadata": {},
   "outputs": [],
   "source": [
    "compressed_cubic = cubic.copy()\n",
    "compressed_cubic.scale_lattice(cubic.volume * 0.8)\n",
    "expanded_cubic = cubic.copy()\n",
    "expanded_cubic.scale_lattice(cubic.volume * 1.2)\n",
    "\n",
    "compressed_orthorhombic = orthorhombic.copy()\n",
    "compressed_orthorhombic.scale_lattice(orthorhombic.volume * 0.8)\n",
    "expanded_orthorhombic = orthorhombic.copy()\n",
    "expanded_orthorhombic.scale_lattice(orthorhombic.volume * 1.2)"
   ]
  },
  {
   "cell_type": "markdown",
   "metadata": {},
   "source": [
    "# Experiment on cubic perovskite"
   ]
  },
  {
   "cell_type": "code",
   "execution_count": 4,
   "metadata": {},
   "outputs": [
    {
     "name": "stderr",
     "output_type": "stream",
     "text": [
      "2021-10-02 21:41:00.264260: I tensorflow/compiler/mlir/mlir_graph_optimization_pass.cc:176] None of the MLIR Optimization Passes are enabled (registered 2)\n"
     ]
    },
    {
     "name": "stdout",
     "output_type": "stream",
     "text": [
      "MEGNet predicted formation energy of cubic perovskite: -3.5446841716766357 eV/atom\n",
      "MEGNet predicted formation energy of compressed cubic perovskite: -3.091189384460449 eV/atom\n",
      "MEGNet predicted formation energy of expanded cubic perovskite: -3.3141798973083496 eV/atom\n"
     ]
    }
   ],
   "source": [
    "ef_cubic = model.predict_energy(cubic)\n",
    "print(\"MEGNet predicted formation energy of cubic perovskite: {} eV/atom\".format(ef_cubic))\n",
    "ef_compressed_cubic = model.predict_energy(compressed_cubic)\n",
    "print(\"MEGNet predicted formation energy of compressed cubic perovskite: {} eV/atom\".format(ef_compressed_cubic))\n",
    "ef_expanded_cubic = model.predict_energy(expanded_cubic)\n",
    "print(\"MEGNet predicted formation energy of expanded cubic perovskite: {} eV/atom\".format(ef_expanded_cubic))"
   ]
  },
  {
   "cell_type": "code",
   "execution_count": 5,
   "metadata": {},
   "outputs": [],
   "source": [
    "compressed_optimizer = BayesianOptimizer(\n",
    "    model=model, \n",
    "    structure=compressed_cubic, \n",
    "    relax_coords=True, \n",
    "    relax_lattice=True,\n",
    "    use_symmetry=True, \n",
    "    seed=42\n",
    ")\n",
    "compressed_optimizer.set_bounds()\n",
    "compressed_optimizer.optimize(n_init=100, n_iter=100, alpha=0.026 ** 2)"
   ]
  },
  {
   "cell_type": "code",
   "execution_count": 6,
   "metadata": {},
   "outputs": [
    {
     "name": "stdout",
     "output_type": "stream",
     "text": [
      "MEGNet predicted formation energy of relaxed compressed cubic: -3.557279109954834 eV/atom\n"
     ]
    }
   ],
   "source": [
    "radius = max(round(expected_radius(compressed_optimizer.structure) * 0.6, 2), 1.1)\n",
    "relaxed_from_compressed_cubic, _ = compressed_optimizer.get_optimized_structure_and_energy(radius=radius)\n",
    "print(\"MEGNet predicted formation energy of relaxed compressed cubic: {} eV/atom\".format(model.predict_energy(relaxed_from_compressed_cubic)))"
   ]
  },
  {
   "cell_type": "code",
   "execution_count": 7,
   "metadata": {},
   "outputs": [],
   "source": [
    "expanded_optimizer = BayesianOptimizer(\n",
    "    model=model, \n",
    "    structure=expanded_cubic, \n",
    "    relax_coords=True, \n",
    "    relax_lattice=True,\n",
    "    use_symmetry=True, \n",
    "    seed=42\n",
    ")\n",
    "expanded_optimizer.set_bounds()\n",
    "expanded_optimizer.optimize(n_init=100, n_iter=100, alpha=0.026 ** 2)"
   ]
  },
  {
   "cell_type": "code",
   "execution_count": 8,
   "metadata": {},
   "outputs": [
    {
     "name": "stdout",
     "output_type": "stream",
     "text": [
      "MEGNet predicted formation energy of relaxed expanded cubic: -3.5568583011627197 eV/atom\n"
     ]
    }
   ],
   "source": [
    "radius = max(round(expected_radius(expanded_optimizer.structure) * 0.6, 2), 1.1)\n",
    "relaxed_from_expanded_cubic, _ = expanded_optimizer.get_optimized_structure_and_energy(radius=radius)\n",
    "print(\"MEGNet predicted formation energy of relaxed expanded cubic: {} eV/atom\".format(\n",
    "    model.predict_energy(relaxed_from_expanded_cubic)))"
   ]
  },
  {
   "cell_type": "markdown",
   "metadata": {},
   "source": [
    "# Experiment on orthorhombic perovskite"
   ]
  },
  {
   "cell_type": "code",
   "execution_count": 30,
   "metadata": {},
   "outputs": [
    {
     "name": "stdout",
     "output_type": "stream",
     "text": [
      "MEGNet predicted formation energy of orthorhombic perovskite: -3.5569562911987305 eV/atom\n",
      "MEGNet predicted formation energy of compressed orthorhombic perovskite: -3.0739383697509766 eV/atom\n",
      "MEGNet predicted formation energy of expanded orthorhombic perovskite: -3.261291027069092 eV/atom\n"
     ]
    }
   ],
   "source": [
    "ef_orthorhombic = model.predict_energy(orthorhombic)\n",
    "print(\"MEGNet predicted formation energy of orthorhombic perovskite: {} eV/atom\".format(ef_orthorhombic))\n",
    "ef_compressed_orthorhombic = model.predict_energy(compressed_orthorhombic)\n",
    "print(\"MEGNet predicted formation energy of compressed orthorhombic perovskite: {} eV/atom\".format(ef_compressed_orthorhombic))\n",
    "ef_expanded_orthorhombic = model.predict_energy(expanded_orthorhombic)\n",
    "print(\"MEGNet predicted formation energy of expanded orthorhombic perovskite: {} eV/atom\".format(ef_expanded_orthorhombic))"
   ]
  },
  {
   "cell_type": "code",
   "execution_count": 36,
   "metadata": {},
   "outputs": [],
   "source": [
    "compressed_optimizer = BayesianOptimizer(\n",
    "    model=model, \n",
    "    structure=compressed_orthorhombic, \n",
    "    relax_coords=True, \n",
    "    relax_lattice=True,\n",
    "    use_symmetry=True, \n",
    "    seed=42\n",
    ")\n",
    "compressed_optimizer.set_bounds()\n",
    "compressed_optimizer.optimize(n_init=100, n_iter=100, alpha=0.026 ** 2)"
   ]
  },
  {
   "cell_type": "code",
   "execution_count": 37,
   "metadata": {},
   "outputs": [
    {
     "name": "stdout",
     "output_type": "stream",
     "text": [
      "MEGNet predicted formation energy of relaxed compressed orthorhombic: -3.562537670135498 eV/atom\n"
     ]
    }
   ],
   "source": [
    "radius = max(round(expected_radius(compressed_optimizer.structure) * 0.6, 2), 1.1)\n",
    "relaxed_from_compressed_orthorhombic, _ = compressed_optimizer.get_optimized_structure_and_energy(radius=radius)\n",
    "print(\"MEGNet predicted formation energy of relaxed compressed orthorhombic: {} eV/atom\".format(\n",
    "    model.predict_energy(relaxed_from_compressed_orthorhombic)))"
   ]
  },
  {
   "cell_type": "code",
   "execution_count": 40,
   "metadata": {},
   "outputs": [],
   "source": [
    "expanded_optimizer = BayesianOptimizer(\n",
    "    model=model, \n",
    "    structure=expanded_orthorhombic, \n",
    "    relax_coords=True, \n",
    "    relax_lattice=True,\n",
    "    use_symmetry=True, \n",
    "    seed=42\n",
    ")\n",
    "expanded_optimizer.set_bounds()\n",
    "expanded_optimizer.optimize(n_init=100, n_iter=100, alpha=0.026 ** 2)"
   ]
  },
  {
   "cell_type": "code",
   "execution_count": 41,
   "metadata": {},
   "outputs": [
    {
     "name": "stdout",
     "output_type": "stream",
     "text": [
      "MEGNet predicted formation energy of relaxed expanded orthorhombic: -3.5610156059265137 eV/atom\n"
     ]
    }
   ],
   "source": [
    "radius = max(round(expected_radius(expanded_optimizer.structure) * 0.6, 2), 1.1)\n",
    "relaxed_from_expanded_orthorhombic, _ = expanded_optimizer.get_optimized_structure_and_energy(radius=radius)\n",
    "print(\"MEGNet predicted formation energy of relaxed expanded orthorhombic: {} eV/atom\".format(\n",
    "    model.predict_energy(relaxed_from_expanded_orthorhombic)))"
   ]
  },
  {
   "cell_type": "code",
   "execution_count": null,
   "metadata": {},
   "outputs": [],
   "source": []
  }
 ],
 "metadata": {
  "kernelspec": {
   "display_name": "Python 3 (ipykernel)",
   "language": "python",
   "name": "python3"
  },
  "language_info": {
   "codemirror_mode": {
    "name": "ipython",
    "version": 3
   },
   "file_extension": ".py",
   "mimetype": "text/x-python",
   "name": "python",
   "nbconvert_exporter": "python",
   "pygments_lexer": "ipython3",
   "version": "3.9.5"
  }
 },
 "nbformat": 4,
 "nbformat_minor": 4
}
